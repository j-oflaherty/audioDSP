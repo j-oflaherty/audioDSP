{
 "cells": [
  {
   "cell_type": "markdown",
   "metadata": {},
   "source": [
    "# <center> PROCESAMIENTO DIGITAL DE SEÑALES DE AUDIO</center>\n",
    "## <center> Estabilidad, causalidad y ROC</center>      "
   ]
  },
  {
   "cell_type": "code",
   "execution_count": 1,
   "metadata": {},
   "outputs": [],
   "source": [
    "%matplotlib inline\n",
    "\n",
    "import numpy as np\n",
    "import matplotlib.pyplot as plt\n",
    "from  matplotlib import patches\n",
    "from matplotlib.pyplot import axvline, axhline\n",
    "\n",
    "from scipy import signal"
   ]
  },
  {
   "cell_type": "markdown",
   "metadata": {},
   "source": [
    "### Descripción\n",
    "\n",
    "En este ejercicio se estudia la estabilidad y causalidad de un sistema SLIT analizando el diagrama de polos y ceros de su transferencia, $H(z)$, y en particular la región de convergencia de las secuencias $h[n]$ que le dan lugar. "
   ]
  },
  {
   "cell_type": "markdown",
   "metadata": {},
   "source": [
    "### Cómo correr el notebook\n",
    "Se puede bajar y correr el notebook de forma local en una computadora.\n",
    "\n",
    "O también se puede correr en Google Colab usando el siguiente enlace. \n",
    "\n",
    "<table align=\"center\">\n",
    "  <td>\n",
    "    <a target=\"_blank\" href=\"https://colab.research.google.com/github/mrocamora/audio-dsp/blob/main/notebooks/audioDSP-ROC_example.ipynb\"><img src=\"https://www.tensorflow.org/images/colab_logo_32px.png\" />Run in Google Colab</a>\n",
    "  </td>\n",
    "</table>"
   ]
  },
  {
   "cell_type": "markdown",
   "metadata": {},
   "source": [
    "### Diagrama de polos y ceros\n",
    "\n",
    "Considere un sistema con respuesta al impulso $h[n]$, para el cual su transformada $\\mathcal{Z}$, $H(z)$, tiene el diagrama de polos y ceros de la siguiente figura.\n",
    "\n",
    "$$H(z) = \\sum_{n=-\\infty}^{\\infty} h[n] \\, z^{-n}$$\n",
    "\n",
    "Recuerde que dada $H(z)$ como un cociente de polinomios con dos raíces en el denominador (i.e. dos polos) como en el ejemplo, se puede hacer fracciones simples y obtener dos términos por separados. Cada uno de esos términos no tiene una única antitransformada $\\mathcal{Z}$, es decir, hay más de una secuencia que da lugar a la misma expresión en $z$. Pero las secuencias difieren en la región de convergencia y se puede probar que dicha región de convergencia depende del módulo de los polos. Entonces, para el caso de este ejemplo, existen tres posibles antitransformadas $\\mathcal{Z}$, ya que si bien transformando esas secuencias temporales se obtiene la misma expresión en $z$, cada una de ellas corresponde a una transformada $\\mathcal{Z}$ con una región de convergencia distinta. Así, no hay una única antitransformada, pero si una única antitransformada para cada pareja compuesta por la expesión en $z$ y su región de convergencia.\n"
   ]
  },
  {
   "cell_type": "code",
   "execution_count": 2,
   "metadata": {},
   "outputs": [],
   "source": [
    "# zeros and poles\n",
    "p = np.array([1/2, -2])\n",
    "z = np.array([0, 0])"
   ]
  },
  {
   "cell_type": "code",
   "execution_count": 3,
   "metadata": {},
   "outputs": [
    {
     "data": {
      "image/png": "[encoded data removed]",
      "text/plain": [
       "<Figure size 1296x864 with 1 Axes>"
      ]
     },
     "metadata": {
      "needs_background": "light"
     },
     "output_type": "display_data"
    }
   ],
   "source": [
    "# plot zero pole diagram\n",
    "plt.figure(figsize=(18, 12))\n",
    "ax1 = plt.subplot(2, 1, 1)\n",
    "ax = plt.subplot(2, 2, 1)\n",
    "# unit circle and zero axes    \n",
    "unit_circle = patches.Circle((0,0), radius=1, fill=False,\n",
    "                             color='black', ls='solid', alpha=0.6)\n",
    "ax.add_patch(unit_circle)\n",
    "axvline(0, color='0.6')\n",
    "axhline(0, color='0.6')\n",
    "\n",
    "# plot the zeros and set marker properties    \n",
    "t1 = plt.plot(z.real, z.imag, 'go', ms=10)\n",
    "plt.setp(t1, markersize=10.0, markeredgewidth=1.0,\n",
    "         markeredgecolor='k', markerfacecolor='g')\n",
    "# plot the poles and set marker properties\n",
    "t2 = plt.plot(p.real, p.imag, 'rx', ms=10)\n",
    "plt.setp(t2, markersize=12.0, markeredgewidth=3.0,\n",
    "         markeredgecolor='r', markerfacecolor='r')\n",
    "\n",
    "plt.title(\"Pole-Zero Plot\")\n",
    "plt.xlabel(\"Real\")\n",
    "plt.ylabel(\"Imaginary\");"
   ]
  },
  {
   "cell_type": "markdown",
   "metadata": {},
   "source": [
    "### Preguntas\n",
    "\n",
    "Responda las siguientes preguntas.\n",
    "1. Hay tres posibles regiones de convergencia (ROC) para este diagrama de polos y ceros. ¿Cuáles son? ¿Por qué?\n",
    "2. Suponga que el sistema $h[n]$ dado por el diagrama de polos y ceros es **estable**. ¿Cuál es la condición que debe cumplir la respuesta al impulso $h[n]$ de un sistema SLIT para que sea estable?\n",
    "3. Suponga que el sistema $h[n]$ dado por el diagrama de polos y ceros es **estable**. ¿Cuál es la ROC resultante en ese caso? ¿Por qué? \n",
    "4. Suponga que el sistema $h[n]$ dado por el diagrama de polos y ceros es **estable**. Recordar que dado un polo complejo $p$, la solución asociada a tener una ROC $|z| > |p|$ da lugar a una secuencia a la derecha o hacia adelante, y que la solución asociada a tener una ROC $|z| < |p|$ da lugar a una secuencia a la izquierda o hacia atrás. ¿Es **causal** dicho sistema? ¿Por qué?\n",
    "5. Ahora suponga que el sistema $h[n]$ dado por el diagrama de polos y ceros es **causal**. ¿Cuál es la ROC resultante? ¿Por qué?\n",
    "6. Suponga que el sistema $h[n]$ dado por el diagrama de polos y ceros es **causal**. ¿Es **estable** dicho sistema? ¿Por qué?\n"
   ]
  },
  {
   "cell_type": "markdown",
   "metadata": {},
   "source": [
    "**Ejemplo 3.7 del libro:** *V. Oppenheim, Ronald W. Schafer, and John R. Buck. 1999. Discrete-time signal processing (2nd ed.). Prentice-Hall, Inc., USA.*"
   ]
  },
  {
   "cell_type": "code",
   "execution_count": null,
   "metadata": {},
   "outputs": [],
   "source": []
  }
 ],
 "metadata": {
  "kernelspec": {
   "display_name": "Python 3 (ipykernel)",
   "language": "python",
   "name": "python3"
  },
  "language_info": {
   "codemirror_mode": {
    "name": "ipython",
    "version": 3
   },
   "file_extension": ".py",
   "mimetype": "text/x-python",
   "name": "python",
   "nbconvert_exporter": "python",
   "pygments_lexer": "ipython3",
   "version": "3.8.1"
  },
  "latex_envs": {
   "LaTeX_envs_menu_present": true,
   "autoclose": true,
   "autocomplete": true,
   "bibliofile": "biblio.bib",
   "cite_by": "apalike",
   "current_citInitial": 1,
   "eqLabelWithNumbers": true,
   "eqNumInitial": 1,
   "hotkeys": {
    "equation": "Ctrl-E",
    "itemize": "Ctrl-I"
   },
   "labels_anchors": false,
   "latex_user_defs": false,
   "report_style_numbering": false,
   "user_envs_cfg": false
  }
 },
 "nbformat": 4,
 "nbformat_minor": 2
}
