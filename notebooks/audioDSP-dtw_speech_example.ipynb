{
 "cells": [
  {
   "cell_type": "markdown",
   "metadata": {},
   "source": [
    "# <center> PROCESAMIENTO DIGITAL DE SEÑALES DE AUDIO</center>\n",
    "## <center> Dynamic Time Warping (DTW)</center>\n",
    "### <center> Speech alignment example</center>\n",
    "\n",
    "Code based on: [dp_python](https://github.com/dpwe/dp_python) by Dan Ellis"
   ]
  },
  {
   "cell_type": "code",
   "execution_count": null,
   "metadata": {},
   "outputs": [],
   "source": [
    "%matplotlib inline\n",
    "\n",
    "import numpy as np\n",
    "import matplotlib.pyplot as plt\n",
    "\n",
    "import librosa\n",
    "import librosa.display\n",
    "\n",
    "import IPython.display as ipd"
   ]
  },
  {
   "cell_type": "markdown",
   "metadata": {},
   "source": [
    "**NOTA:** *Las siguientes dos celdas solo son necesarias para descargar el archivo de ejemplo. Ignórelas si va a trabajar con sus propios archivos de audio.*"
   ]
  },
  {
   "cell_type": "code",
   "execution_count": null,
   "metadata": {},
   "outputs": [],
   "source": [
    "!pip install wget"
   ]
  },
  {
   "cell_type": "code",
   "execution_count": null,
   "metadata": {},
   "outputs": [],
   "source": [
    "import wget"
   ]
  },
  {
   "cell_type": "markdown",
   "metadata": {},
   "source": [
    "### Descripción\n",
    "\n",
    "En este ejemplo se estudia el alineamiento mediante Dynamic Time Warping (DTW) de dos señales de voz usando como representación el espectrograma. "
   ]
  },
  {
   "cell_type": "markdown",
   "metadata": {},
   "source": [
    "### Cómo correr el notebook\n",
    "Se puede bajar y correr el notebook de forma local en una computadora.\n",
    "\n",
    "O también se puede correr en Google Colab usando el siguiente enlace. \n",
    "\n",
    "<table align=\"center\">\n",
    "  <td>\n",
    "    <a target=\"_blank\" href=\"https://colab.research.google.com/github/mrocamora/audio-dsp/blob/main/notebooks/audioDSP-dtw_speech_example.ipynb\"><img src=\"https://www.tensorflow.org/images/colab_logo_32px.png\" />Run in Google Colab</a>\n",
    "  </td>\n",
    "</table>"
   ]
  },
  {
   "cell_type": "markdown",
   "metadata": {},
   "source": [
    "#### Funciones auxiliares\n",
    "\n",
    "A continuación se definen dos funciones auxililares para implementar Dynamic Programming en python."
   ]
  },
  {
   "cell_type": "code",
   "execution_count": null,
   "metadata": {},
   "outputs": [],
   "source": [
    "# original source: https://github.com/dpwe/dp_python by Dan Ellis\n",
    "#\n",
    "# Dynamic Programming routine in Python\n",
    "#\n",
    "# 2014-05-30 Dan Ellis dpwe@ee.columbia.edu\n",
    "\n",
    "def dpcore(M, pen):\n",
    "    \"\"\"Core dynamic programming calculation of best path.\n",
    "       M[r,c] is the array of local costs.  \n",
    "       Create D[r,c] as the array of costs-of-best-paths to r,c, \n",
    "       and phi[r,c] as the indicator of the point preceding [r,c] to \n",
    "       allow traceback; 0 = (r-1,c-1), 1 = (r,c-1), 2 = (r-1, c)\n",
    "    \n",
    "    :params:\n",
    "      M : np.array of float\n",
    "        Array of local costs\n",
    "      pen : float\n",
    "        Penalty to apply for non-diagonal steps\n",
    "\n",
    "    :returns:\n",
    "      D : np.array of float\n",
    "        Array of best costs to each point, starting from (0,0)\n",
    "      phi : np.array of int\n",
    "        Traceback indices indicating the last step taken by \n",
    "        the lowest-cost path reaching this point.  Values:\n",
    "          0 : previous point was r-1, c-1\n",
    "          1 : previous point was r, c-1\n",
    "          2 : previous point was r-1, c\n",
    "    \"\"\"\n",
    "    D = np.zeros(M.shape, dtype=np.float)\n",
    "    phi = np.zeros(M.shape, dtype=np.int)\n",
    "    # bottom edge can only come from preceding column\n",
    "    D[0,1:] = M[0,0]+np.cumsum(M[0,1:]+pen)\n",
    "    phi[0,1:] = 1\n",
    "    # left edge can only come from preceding row\n",
    "    D[1:,0] = M[0,0]+np.cumsum(M[1:,0]+pen)\n",
    "    phi[1:,0] = 2\n",
    "    # initialize bottom left\n",
    "    D[0,0] = M[0,0]\n",
    "    phi[0,0] = 0\n",
    "    # Calculate the rest recursively\n",
    "    for c in range(1, np.shape(M)[1]):\n",
    "        for r in range(1, np.shape(M)[0]):\n",
    "            best_preceding_costs = [D[r-1,c-1], pen+D[r,c-1], pen+D[r-1, c]]\n",
    "            tb = np.argmin(best_preceding_costs)\n",
    "            D[r,c] = best_preceding_costs[tb] + M[r,c]\n",
    "            phi[r,c] = tb\n",
    "\n",
    "    return D, phi\n",
    "\n",
    "def dp(local_costs, penalty=0.0, gutter=0.0):\n",
    "    \"\"\"\n",
    "    Use dynamic programming to find a min-cost path through a matrix \n",
    "    of local costs.\n",
    "\n",
    "    :params:\n",
    "      local_costs : np.array of float\n",
    "        matrix of local costs at each cell\n",
    "      penalty : float\n",
    "        additional cost incurred by (0,1) and (1,0) steps [default: 0.0]\n",
    "      gutter : float\n",
    "        proportion of edge length away from [-1,-1] that best path will \n",
    "        be accepted at. [default: 0.0 i.e. must reach top-right]\n",
    "\n",
    "    :returns:\n",
    "      p, q : np.array of int\n",
    "        row and column indices of best path\n",
    "      total_costs : np.array of float\n",
    "        matrix of minimum costs to each point\n",
    "      phi : np.array of int\n",
    "        traceback matrix indicating preceding best-path step for each cell:\n",
    "          0  diagonal predecessor\n",
    "          1  previous column, same row\n",
    "          2  previous row, same column\n",
    "\n",
    "    :note:\n",
    "      port of Matlab routine dp.m, \n",
    "      http://labrosa.ee.columbia.edu/matlab/dtw/\n",
    "    \"\"\"\n",
    "    rows, cols = np.shape(local_costs)\n",
    "    total_costs = np.zeros( (rows+1, cols+1), np.float)\n",
    "    total_costs[0,:] = np.inf\n",
    "    total_costs[:,0] = np.inf\n",
    "    total_costs[0,0] = 0\n",
    "    # add gutters at start too\n",
    "    colgutter = int(np.maximum(1, np.round(gutter*cols)))\n",
    "    total_costs[0, :colgutter] = -penalty * np.arange(colgutter)\n",
    "    rowgutter = int(np.maximum(1, np.round(gutter*rows)))\n",
    "    total_costs[:rowgutter, 0] = -penalty * np.arange(rowgutter)\n",
    "    # copy in local costs\n",
    "    total_costs[1:(rows+1), 1:(cols+1)] = local_costs\n",
    "\n",
    "    # Core routine to calculate matrix of min costs\n",
    "    total_costs, phi = dpcore(total_costs, penalty)\n",
    "\n",
    "    # Strip off the edges of the matrices used to create gutters\n",
    "    total_costs = total_costs[1:, 1:]\n",
    "    phi = phi[1:,1:]\n",
    "    \n",
    "    if gutter == 0:\n",
    "        # Traceback from top left\n",
    "        i = rows-1\n",
    "        j = cols-1\n",
    "    else:\n",
    "        # Traceback from lowest cost \"to edge\" (gutters)\n",
    "        best_top_pt = (cols - colgutter \n",
    "                       + np.argmin(total_costs[-1, -colgutter:]))\n",
    "        best_right_pt = (rows - rowgutter\n",
    "                         + np.argmin(total_costs[-rowgutter:, -1]))\n",
    "        if total_costs[-1, best_top_pt] < total_costs[best_right_pt, -1]:\n",
    "            i = rows - 1\n",
    "            j = best_top_pt\n",
    "        else:\n",
    "            i = best_right_pt\n",
    "            j = cols - 1\n",
    "\n",
    "    # Do traceback from best end point to find best path\n",
    "    # Start from lowest-total-cost point\n",
    "    p = [i]\n",
    "    q = [j]\n",
    "    # Work backwards until we get to starting point (0, 0)\n",
    "    while i >= 0 and j >= 0:\n",
    "        tb = phi[i,j];\n",
    "        if (tb == 0):\n",
    "            i = i-1\n",
    "            j = j-1\n",
    "        elif (tb == 1):\n",
    "            j = j-1\n",
    "        elif (tb == 2):\n",
    "            i = i-1\n",
    "        p.insert(0, i)\n",
    "        q.insert(0, j)\n",
    "\n",
    "    return p[1:], q[1:], total_costs, phi\n"
   ]
  },
  {
   "cell_type": "markdown",
   "metadata": {},
   "source": [
    "### 1) Señales de voz hablada"
   ]
  },
  {
   "cell_type": "code",
   "execution_count": null,
   "metadata": {},
   "outputs": [],
   "source": [
    "# download audio files\n",
    "wget.download('https://github.com/mrocamora/audio-dsp/blob/main/audio/speech_sm1_cln.wav?raw=true')\n",
    "wget.download('https://github.com/mrocamora/audio-dsp/blob/main/audio/speech_sm2_cln.wav?raw=true')"
   ]
  },
  {
   "cell_type": "code",
   "execution_count": null,
   "metadata": {},
   "outputs": [],
   "source": [
    "# two different speakers saying \"Cottage cheese with chives is delicious\"\n",
    "d1, sr1 = librosa.load('speech_sm1_cln.wav', sr=None)\n",
    "d2, sr2 = librosa.load('speech_sm2_cln.wav', sr=None)"
   ]
  },
  {
   "cell_type": "code",
   "execution_count": null,
   "metadata": {},
   "outputs": [],
   "source": [
    "# plot the audio waveform.\n",
    "plt.figure(figsize=(16, 6))\n",
    "plt.subplot(2,1,1)\n",
    "librosa.display.waveplot(d1, sr=sr1)\n",
    "plt.title('Waveform - first audio file')\n",
    "plt.tight_layout()\n",
    "plt.subplot(2,1,2)\n",
    "librosa.display.waveplot(d2, sr=sr2)\n",
    "plt.title('Waveform - second audio file')\n",
    "plt.tight_layout()\n"
   ]
  },
  {
   "cell_type": "code",
   "execution_count": null,
   "metadata": {},
   "outputs": [],
   "source": [
    "ipd.Audio(d1, rate=sr1)"
   ]
  },
  {
   "cell_type": "code",
   "execution_count": null,
   "metadata": {},
   "outputs": [],
   "source": [
    "ipd.Audio(d2, rate=sr2)"
   ]
  },
  {
   "cell_type": "markdown",
   "metadata": {},
   "source": [
    "Listen to the two recordings toghether to verify they are not synchronized."
   ]
  },
  {
   "cell_type": "code",
   "execution_count": null,
   "metadata": {},
   "outputs": [],
   "source": [
    "ml = np.min([len(d1), len(d2)])\n",
    "audio_1_s = d1[:ml]\n",
    "audio_2_s = d2[:ml]\n",
    "audio_stereo = np.hstack((audio_2_s.reshape(-1, 1), audio_1_s.reshape(-1, 1)))\n",
    "\n",
    "print('Not synchronized versions', flush=True)\n",
    "ipd.display(ipd.Audio(audio_stereo.T, rate=sr1))"
   ]
  },
  {
   "cell_type": "markdown",
   "metadata": {},
   "source": [
    "### 2) Espectrogramas"
   ]
  },
  {
   "cell_type": "code",
   "execution_count": null,
   "metadata": {},
   "outputs": [],
   "source": [
    "# short-time Fourier transforms\n",
    "hop_size = 128\n",
    "n_fft = 512\n",
    "D1C = librosa.stft(d1, n_fft=n_fft, hop_length=hop_size)\n",
    "D2C = librosa.stft(d2, n_fft=n_fft, hop_length=hop_size)\n",
    "# use magnitude to calculate similarity (ignore phase)\n",
    "D1 = np.abs(D1C)\n",
    "D2 = np.abs(D2C)"
   ]
  },
  {
   "cell_type": "code",
   "execution_count": null,
   "metadata": {},
   "outputs": [],
   "source": [
    "# plot the spectrograms (similar sequence of sounds, but different timing details)\n",
    "plt.figure(figsize=(16, 8))\n",
    "plt.subplot(2,1,1)\n",
    "librosa.display.specshow(20*np.log10(D1), sr=sr1, hop_length=128, y_axis=\"linear\", x_axis=\"time\", cmap='jet')\n",
    "plt.subplot(2,1,2)\n",
    "librosa.display.specshow(20*np.log10(D2), sr=sr2, hop_length=128, y_axis=\"linear\", x_axis=\"time\", cmap='jet')"
   ]
  },
  {
   "cell_type": "markdown",
   "metadata": {},
   "source": [
    "### 3) Matriz de similitud"
   ]
  },
  {
   "cell_type": "code",
   "execution_count": null,
   "metadata": {},
   "outputs": [],
   "source": [
    "# cosine similarity matrix (slow one-liner)\n",
    "# each cell SM[i,j] is the cosine similarity between D1[:,i] and D2[:,j]\n",
    "# i.e. the inner product of the two unit-normalized feature vectors\n",
    "SM = np.array([[np.sum(a*b)/np.sqrt(np.sum(a**2)*np.sum(b**2)) for b in D2.T] for a in D1.T])"
   ]
  },
  {
   "cell_type": "code",
   "execution_count": null,
   "metadata": {},
   "outputs": [],
   "source": [
    "# plot local similarity matrix\n",
    "plt.figure(figsize=(9, 8))\n",
    "\n",
    "# spectrogram of X_1 (bottom right plot).\n",
    "ax1 = plt.axes([0.2, 0, 0.8, 0.20])\n",
    "ax1.imshow(20*np.log10(D1), origin='lower', aspect='auto', cmap='jet')\n",
    "ax1.set_xlabel('Spectrogram of $X_1$')\n",
    "ax1.set_xticks([])\n",
    "ax1.set_yticks([])\n",
    "\n",
    "# spectrogram of X_2 (top left plot).\n",
    "ax2 = plt.axes([0, 0.2, 0.20, 0.8])\n",
    "ax2.imshow(20*np.log10(D2).T[:,::-1], origin='lower', aspect='auto', cmap='jet')\n",
    "ax2.set_ylabel('Spectrogram of $X_2$')\n",
    "ax2.set_xticks([])\n",
    "ax2.set_yticks([])\n",
    "\n",
    "# local similarity matrix (top right plot).\n",
    "ax3 = plt.axes([0.2, 0.2, 0.8, 0.8])\n",
    "ax3.imshow(SM, aspect='auto', origin='lower', interpolation='none', cmap='binary')\n",
    "ax3.axis([0, np.size(D2, axis=1), 0, np.size(D1, axis=1)])\n",
    "ax3.set_xticks([])\n",
    "ax3.set_yticks([])"
   ]
  },
  {
   "cell_type": "markdown",
   "metadata": {},
   "source": [
    "### 4) Dynamic Time Warping"
   ]
  },
  {
   "cell_type": "code",
   "execution_count": null,
   "metadata": {},
   "outputs": [],
   "source": [
    "# find the minimum-cost path.  We use 1-SM so that cosine similarity == 1 -> cost = 0\n",
    "# penalty is the additional cost incurred by non-diagonal steps (promotes diagonality)\n",
    "localcost = np.array(1.0-SM, order='C', dtype=float)\n",
    "p, q, C, phi = dp(localcost, penalty=0.1)\n",
    "# p and q are vectors giving the row and column indices along the best path\n",
    "# C returns the full minimum-cost matrix, and phi is the full traceback matrix"
   ]
  },
  {
   "cell_type": "code",
   "execution_count": null,
   "metadata": {},
   "outputs": [],
   "source": [
    "# plot the best path on top of local similarity matrix\n",
    "plt.figure(figsize=(9, 8))\n",
    "\n",
    "# bottom right plot.\n",
    "ax1 = plt.axes([0.2, 0, 0.8, 0.20])\n",
    "ax1.imshow(20*np.log10(D1), origin='lower', aspect='auto', cmap='jet')\n",
    "ax1.set_xlabel('Spectrogram of $X_1$')\n",
    "ax1.set_xticks([])\n",
    "ax1.set_yticks([])\n",
    "\n",
    "# top left plot.\n",
    "ax2 = plt.axes([0, 0.2, 0.20, 0.8])\n",
    "ax2.imshow(20*np.log10(D2).T[:,::-1], origin='lower', aspect='auto', cmap='jet')\n",
    "ax2.set_ylabel('Spectrogram of $X_2$')\n",
    "ax2.set_xticks([])\n",
    "ax2.set_yticks([])\n",
    "\n",
    "# top right plot.\n",
    "ax3 = plt.axes([0.2, 0.2, 0.8, 0.8])\n",
    "#ax3.imshow(D.T, aspect='auto', origin='lower', interpolation='nearest', cmap='gray')\n",
    "ax3.imshow(SM, aspect='auto', origin='lower', interpolation='none', cmap='binary')\n",
    "#ax3.imshow(SM, interpolation='nearest', origin='lower', cmap='gray')\n",
    "ax3.plot(q,p,'-r')\n",
    "ax3.axis([0, np.size(D2, axis=1), 0, np.size(D1, axis=1)])\n",
    "ax3.set_xticks([])\n",
    "ax3.set_yticks([])"
   ]
  },
  {
   "cell_type": "code",
   "execution_count": null,
   "metadata": {},
   "outputs": [],
   "source": [
    "# we can use the best-aligned columns to plot aligned spectrograms\n",
    "# notice how the features in the two spectrograms are now lined up horizontally\n",
    "plt.figure(figsize=(16, 8))\n",
    "plt.subplot(2,1,1)\n",
    "librosa.display.specshow(20*np.log10(D1[:, p]), sr=sr1, hop_length=128, y_axis=\"linear\", x_axis=\"time\", cmap='jet')\n",
    "plt.subplot(2,1,2)\n",
    "librosa.display.specshow(20*np.log10(D2[:, q]), sr=sr2, hop_length=128, y_axis=\"linear\", x_axis=\"time\", cmap='jet')"
   ]
  },
  {
   "cell_type": "markdown",
   "metadata": {},
   "source": [
    "### 5) Listen to aligned audio"
   ]
  },
  {
   "cell_type": "code",
   "execution_count": null,
   "metadata": {},
   "outputs": [],
   "source": [
    "# download audio files\n",
    "wget.download('https://github.com/mrocamora/audio-dsp/blob/main/audio/speech_stereo_matched.wav?raw=true')"
   ]
  },
  {
   "cell_type": "code",
   "execution_count": null,
   "metadata": {},
   "outputs": [],
   "source": [
    "# Load stereo aligned audio\n",
    "d_aligned, sr_aligned = librosa.load('speech_stereo_matched.wav', sr=None)"
   ]
  },
  {
   "cell_type": "code",
   "execution_count": null,
   "metadata": {},
   "outputs": [],
   "source": [
    "# To play matched audio file\n",
    "ipd.Audio(d_aligned, rate=sr_aligned)"
   ]
  },
  {
   "cell_type": "code",
   "execution_count": null,
   "metadata": {},
   "outputs": [],
   "source": []
  }
 ],
 "metadata": {
  "kernelspec": {
   "display_name": "Python 3",
   "language": "python",
   "name": "python3"
  },
  "language_info": {
   "codemirror_mode": {
    "name": "ipython",
    "version": 3
   },
   "file_extension": ".py",
   "mimetype": "text/x-python",
   "name": "python",
   "nbconvert_exporter": "python",
   "pygments_lexer": "ipython3",
   "version": "3.8.10"
  }
 },
 "nbformat": 4,
 "nbformat_minor": 1
}
